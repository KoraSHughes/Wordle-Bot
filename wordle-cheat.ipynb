{
 "cells": [
  {
   "cell_type": "code",
   "execution_count": 1,
   "id": "e22e2fed",
   "metadata": {},
   "outputs": [
    {
     "name": "stdout",
     "output_type": "stream",
     "text": [
      "found 9979 words\n"
     ]
    }
   ],
   "source": [
    "import re\n",
    "# nltk?\n",
    "from english_words import get_english_words_set\n",
    "\n",
    "wl = 5  # word length\n",
    "# getting all wl-len words for wordle\n",
    "words = [word for word in get_english_words_set(['web2'], lower=True) if len(word) == wl]\n",
    "print(\"found\", len(words), \"words\")\n",
    "words = ' '.join(words)"
   ]
  },
  {
   "cell_type": "code",
   "execution_count": 8,
   "id": "770b2878",
   "metadata": {
    "scrolled": true
   },
   "outputs": [
    {
     "name": "stdout",
     "output_type": "stream",
     "text": [
      "\n",
      "Resulting words:\n",
      "['yucky', 'toddy', 'podgy', 'humph', 'boggy', 'wuzzy', 'fulth', 'clock', 'bulky', 'tucum', 'cooly', 'onymy', 'bungy', 'choco', 'conoy', 'lymph', 'puggy', 'poddy', 'pondo', 'woozy', 'boonk', 'yummy', 'bundy', 'floyd', 'fouth', 'goofy', 'duchy', 'cloth', 'mooch', 'pouty', 'bombo', 'mogul', 'glynn', 'plumb', 'bonbo', 'thoft', 'octyl', 'hoddy', 'poppy', 'thuoc', 'dunch', 'fully', 'gully', 'blowy', 'notum', 'bolly', 'fluty', 'boldu', 'lotto', 'yolky', 'fungo', 'hobby', 'bothy', 'uncoy', 'jumbo', 'totum', 'holly', 'jocko', 'mothy', 'jotty', 'woody', 'jocum', 'glout', 'coyly', 'cloot', 'lludd', 'cumbu', 'mooth', 'punct', 'poult', 'bluff', 'oghuz', 'woofy', 'honzo', 'unbud', 'muzzy', 'goudy', 'bumbo', 'notch', 'cocco', 'hoppy', 'lolly', 'montu', 'uncut', 'cocky', 'howff', 'bubby', 'ocuby', 'golly', 'compo', 'clomb', 'kongu', 'gubbo', 'oolly', 'outly', 'lunch', 'pocky', 'louty', 'comby', 'outdo', 'xylyl', 'touch', 'potch', 'fuffy', 'ghoul', 'bulby', 'hokum', 'buddh', 'mummy', 'bucko', 'howdy', 'humbo', 'locum', 'loulu']\n"
     ]
    }
   ],
   "source": [
    "def match_words(to_find=\".....\", bad_c=\"\", good_c=\"\", guesses=[], verbose=False):\n",
    "    \"\"\" gets a list of all wl-letter words given criteria \n",
    "        to_find => the word matches these letters in this order with '.' for unknown\n",
    "        bad_c => the word doesnt contain these characters\n",
    "        good_c => the word does contain these characters\"\"\"\n",
    "    # get all words that match this sequence\n",
    "    found_words = re.findall(to_find, words)\n",
    "#     if verbose: \n",
    "#         print(\"Found words:\", found_words)\n",
    "\n",
    "#     print(\"hound\" in found_words)  # TODO figure why this isnt working\n",
    "\n",
    "    # character subset\n",
    "    bad_c += ' '  # addition for space delim in regex\n",
    "    res = []\n",
    "    for word in found_words:\n",
    "        can_add = True\n",
    "        for c in bad_c:  # subtract words with bad characters\n",
    "            if c in word:\n",
    "                can_add = False\n",
    "        if can_add:\n",
    "            for c in good_c:  # add words with good characters\n",
    "                if c not in word:\n",
    "                    can_add = False\n",
    "        if can_add and word in guesses:\n",
    "            can_add = False  # TODO: elim words with - feedback matching letters\n",
    "        if can_add:\n",
    "            res.append(word)\n",
    "    if verbose:\n",
    "        print(\"\\nResulting words:\")\n",
    "        print(res)\n",
    "    return res\n",
    "\n",
    "potential_words = match_words(\".....\", \"arise\", \"\", [], True)  # easiest"
   ]
  },
  {
   "cell_type": "code",
   "execution_count": 16,
   "id": "8c58c0ae",
   "metadata": {
    "scrolled": true
   },
   "outputs": [
    {
     "name": "stdout",
     "output_type": "stream",
     "text": [
      "*Frequency Map\n",
      "{'o': 82, 'u': 59, 'y': 57, 'l': 38, 'c': 33, 'h': 30, 't': 29, 'b': 27, 'm': 26, 'n': 20, 'd': 17, 'g': 16, 'p': 15, 'f': 12, 'k': 11, 'w': 7, 'z': 5, 'j': 4, 'x': 1}\n",
      "Frequency2 Map 0\n",
      "{'b': 17, 'c': 13, 'p': 11, 'h': 10, 'l': 8, 'g': 8, 'f': 7, 'o': 7, 'm': 7, 't': 6, 'w': 4, 'j': 4, 'y': 3, 'u': 3, 'd': 2, 'n': 2, 'k': 1, 'x': 1}\n",
      "Frequency2 Map 1\n",
      "{'o': 58, 'u': 31, 'l': 12, 'n': 4, 'h': 4, 'y': 2, 'c': 2, 'g': 1}\n",
      "Frequency2 Map 2\n",
      "{'o': 18, 'l': 13, 'u': 13, 'c': 12, 'n': 12, 'm': 11, 't': 11, 'd': 5, 'b': 4, 'g': 3, 'y': 3, 'z': 2, 'p': 2, 'w': 2, 'h': 1, 'f': 1, 'k': 1}\n",
      "Frequency2 Map 3\n",
      "{'d': 12, 'u': 12, 'l': 12, 'b': 12, 't': 10, 'c': 10, 'k': 7, 'g': 6, 'f': 6, 'p': 5, 'm': 5, 'z': 4, 'o': 4, 'y': 3, 'h': 3, 'n': 2, 'w': 1}\n",
      "Frequency2 Map 4\n",
      "{'y': 52, 'o': 16, 'h': 13, 'm': 6, 't': 6, 'u': 5, 'l': 4, 'd': 3, 'k': 2, 'b': 2, 'f': 2, 'n': 1, 'c': 1, 'z': 1}\n",
      "\n",
      "Words sorted by best option:\n",
      "['locum', 'touch', 'boldu', 'poult', 'louty', 'fouth', 'montu', 'humbo', 'mogul', 'notum', 'outly', 'pouty', 'bucko', 'hokum', 'jocum', 'glout', 'goudy', 'totum', 'comby', 'potch', 'octyl', 'notch', 'cloth', 'ghoul', 'bothy', 'ocuby', 'bumbo', 'thuoc', 'cooly', 'mothy', 'jumbo', 'bolly', 'loulu', 'holly', 'kongu', 'mooch', 'coyly', 'uncoy', 'clomb', 'outdo', 'mooth', 'fungo', 'floyd', 'pocky', 'gubbo', 'golly', 'hobby', 'lunch', 'conoy', 'howdy', 'compo', 'blowy', 'cocky', 'hoddy', 'yolky', 'podgy', 'toddy', 'boggy', 'lolly', 'lotto', 'bulky', 'cloot', 'oolly', 'fulth', 'hoppy', 'bulby', 'bombo', 'poddy', 'bundy', 'duchy', 'jotty', 'goofy', 'woody', 'pondo', 'oghuz', 'bungy', 'fluty', 'bonbo', 'boonk', 'dunch', 'honzo', 'punct', 'clock', 'woofy', 'gully', 'jocko', 'fully', 'plumb', 'woozy', 'cumbu', 'lymph', 'tucum', 'poppy', 'onymy', 'choco', 'buddh', 'yucky', 'howff', 'thoft', 'humph', 'bubby', 'puggy', 'mummy', 'bluff', 'muzzy', 'yummy', 'uncut', 'fuffy', 'wuzzy', 'glynn', 'lludd', 'unbud', 'cocco', 'xylyl']\n"
     ]
    }
   ],
   "source": [
    "def best_play(good_words, verbose=False):\n",
    "    \"\"\" returns the best play for wordle based on character frequency \n",
    "    Note: this is not necessarily optimal since word difficulty needs to be taken into account\n",
    "     (i.e. 'later' is better then 'artie' because nobody gona put artie in wordle XD)\"\"\"\n",
    "    freq = {}  # get frequency map of all characters\n",
    "    freq2 = [{} for i in range(wl)]   # get frequency map of character frequency in each position\n",
    "    for word in good_words:  # TODO: weight freq by how common the word is\n",
    "        for c in set(word): # save raw freq\n",
    "            freq[c] = freq.get(c, 0) + 1\n",
    "        for i, c in enumerate(word):  # save freq for specific places\n",
    "            freq2[i][c] = freq2[i].get(c, 0) + 1\n",
    "    if verbose:\n",
    "        print(\"*Frequency Map\")  # show in sorted order\n",
    "        print({k: v for k, v in sorted(freq.items(), key=lambda item: item[1], reverse=True)})\n",
    "        for i in range(len(freq2)):\n",
    "            print(\"Frequency2 Map\", i)  # show in sorted order\n",
    "            print({k: v for k, v in sorted(freq2[i].items(), key=lambda item: item[1], reverse=True)})\n",
    "    \n",
    "    score = {}  # get score of each word\n",
    "    for word in good_words:\n",
    "        sc = 0\n",
    "        for c in set(word):  # add freq of letter occurring in any word\n",
    "            sc += freq[c]  # aka chance of -\n",
    "        for i, c in enumerate(word):  # add freq of letter occurring in that spot in any word (half weighted)\n",
    "            sc += freq2[i].get(c, 0)/1.5 # aka chance of * \n",
    "        score[word] = sc  # TODO: account for previously guessed words\n",
    "        \n",
    "    # tunable modifiers to words\n",
    "    for word in score.keys():\n",
    "        if word[-1] == \"s\":  # words ending in s are less frequently used in wordle\n",
    "            score[word] = score[word] * 0.6\n",
    "        elif word[-1] == \"y\":  # words ending in y are slightly less frequently used in wordle\n",
    "            score[word] = score[word] * 0.8\n",
    "            \n",
    "        unq = {}  # words with < 3 unique characters are difficult and are less frequently used in wordle\n",
    "        for c in word:\n",
    "            unq[c] = 1\n",
    "        if len(unq) < 3:\n",
    "            score[word] = score[word] * 0.7\n",
    "    # TODO: word freq - penalize words that are super frequent or super esoteric\n",
    "\n",
    "    # sort possible words based on score\n",
    "    res = sorted(good_words, key=lambda word: score[word], reverse=True)\n",
    "    if verbose:\n",
    "        print(\"\\nWords sorted by best option:\")\n",
    "        print(res)\n",
    "    return res\n",
    "\n",
    "play = best_play(potential_words, True)[0]  # words.split(\" \")"
   ]
  },
  {
   "cell_type": "code",
   "execution_count": 23,
   "id": "f0574066",
   "metadata": {},
   "outputs": [
    {
     "name": "stdout",
     "output_type": "stream",
     "text": [
      "Your Guess: raise\n",
      "Feedback:  xxxxx\n",
      "\n",
      "Your Guess: clout\n",
      "Feedback:  xxx-x\n",
      "\n",
      "Your Guess: thumb\n",
      "Feedback:  xx-*x\n",
      "\n",
      "Your Guess: tummy\n",
      "Feedback:  x****\n",
      "\n",
      "Your Guess: gummy\n",
      "Feedback:  *****\n",
      "\n",
      "Congrats! You win :)\n",
      "\n"
     ]
    },
    {
     "data": {
      "text/plain": [
       "[('raise', 'xxxxx'),\n",
       " ('clout', 'xxx-x'),\n",
       " ('thumb', 'xx-*x'),\n",
       " ('tummy', 'x****'),\n",
       " ('gummy', '*****')]"
      ]
     },
     "execution_count": 23,
     "metadata": {},
     "output_type": "execute_result"
    }
   ],
   "source": [
    "def play_wordle(target, guess):\n",
    "    \"\"\" executes 1 round of wordle and returns feedback \"\"\"\n",
    "    assert len(target) == wl and len(guess) == wl\n",
    "    res = \"\"\n",
    "    for i in range(len(target)):\n",
    "        if target[i] == guess[i]:\n",
    "            res += '*'\n",
    "        elif guess[i] in target:\n",
    "            res += '-'\n",
    "        else:\n",
    "            res += 'x'\n",
    "    return res\n",
    "\n",
    "def wordle(target, max_guess=6):\n",
    "    \"\"\" executes max_guess rounds of wordle and tells you if you won :) \n",
    "    (returns all your guesses & feedback) \"\"\"\n",
    "    i = 0\n",
    "    results = []\n",
    "    while i <= max_guess:\n",
    "        inword = str(input(\"Your Guess: \")).lower().strip()\n",
    "        feedback = play_wordle(target, inword)\n",
    "        results.append((inword, feedback))\n",
    "        print(\"Feedback: \", feedback)\n",
    "        print()\n",
    "        if feedback == '*****':\n",
    "            print(\"Congrats! You win :)\\n\")\n",
    "            return results\n",
    "        i += 1\n",
    "    print(\"Sorry thats not right...\\nThe correct word was:\", target)\n",
    "    return results\n",
    "test = wordle(\"gummy\")"
   ]
  },
  {
   "cell_type": "code",
   "execution_count": 68,
   "id": "e597a04a",
   "metadata": {
    "scrolled": false
   },
   "outputs": [
    {
     "name": "stdout",
     "output_type": "stream",
     "text": [
      "Guessed: ariel\n",
      "Feedback: xxxxx\n",
      "Update: ....., ariel, \n",
      "False\n",
      "\n",
      "Guessed: booty\n",
      "Feedback: x*-xx\n",
      "Update: .o..., arielbty, o\n",
      "False\n",
      "\n",
      "Guessed: donum\n",
      "Feedback: -*--x\n",
      "Update: .o..., arielbtym, odnu\n",
      "False\n",
      "\n",
      "Guessed: fondu\n",
      "Feedback: **---\n",
      "Update: fo..., arielbtym, odnundu\n",
      "False\n",
      "\n",
      "Guessed: found\n",
      "Feedback: *****\n",
      "Congrats! You win :)\n"
     ]
    }
   ],
   "source": [
    "from numpy.random import choice\n",
    "\n",
    "pool_size = 20  # max deviation from best choice\n",
    "rand_weight = 1.5  # int [1,inf] exponentially scaling how likely sorted choices are to each other\n",
    "def bot_wordle(target, num_guesses=6, verbose=False):\n",
    "    \"\"\" shows wordle guesses & results for a freq-optimal bot\n",
    "    Note: its not very good for reasons discussed earlier \"\"\"\n",
    "    counter = 1\n",
    "    potential_words = words.split(' ')\n",
    "    guesses = []\n",
    "    # memory variables between words (can be sets but im lazy)\n",
    "    good_c = \"\"\n",
    "    bad_c = \"\"\n",
    "    while counter <= num_guesses:\n",
    "        assert len(potential_words) > 0, f\"No choices found in {potential_words=}\"\n",
    "        \n",
    "        # random choice of good words is more interesting than always taking the best word\n",
    "        # tldr masks some of the pitfalls of the strategy in variability\n",
    "        best_words = best_play(potential_words)\n",
    "        if len(best_words) > pool_size:  # constrain random choice\n",
    "            best_words = best_words[:pool_size]\n",
    "        inword = choice(best_words, 1, [rand_weight**i for i in reversed(range(len(best_words)))])[0]\n",
    "        \n",
    "        guesses.append(inword)\n",
    "        print(\"Guessed:\", inword)\n",
    "        \n",
    "        feedback = play_wordle(target, inword)\n",
    "        print(\"Feedback:\", feedback)\n",
    "        \n",
    "        if feedback == '*****':\n",
    "            print(\"Congrats! You win :)\")\n",
    "            return\n",
    "        else:  # find next best option\n",
    "            to_find = \"\"\n",
    "            for i, c in enumerate(feedback):  # update params based on feedback\n",
    "                if c == \"*\":\n",
    "                    to_find += inword[i]\n",
    "                else:\n",
    "                    to_find += '.'\n",
    "                    if c == \"-\":\n",
    "                        good_c += inword[i]\n",
    "                    else:\n",
    "                        bad_c += inword[i]\n",
    "            # update words for next round\n",
    "            if verbose: print(\"Update:\", ', '.join([to_find, bad_c, good_c]))\n",
    "            potential_words = match_words(to_find, bad_c, good_c, guesses)\n",
    "        print()\n",
    "        counter += 1\n",
    "    print(\"Sorry thats not right...\\nThe correct word was:\", target)\n",
    "    return\n",
    "\n",
    "bot_wordle(\"found\", 6, True)\n",
    "\n",
    "# TODO: make it so bot looks at previous guesses and knows - letters can be in that position*"
   ]
  }
 ],
 "metadata": {
  "kernelspec": {
   "display_name": "Python 3 (ipykernel)",
   "language": "python",
   "name": "python3"
  },
  "language_info": {
   "codemirror_mode": {
    "name": "ipython",
    "version": 3
   },
   "file_extension": ".py",
   "mimetype": "text/x-python",
   "name": "python",
   "nbconvert_exporter": "python",
   "pygments_lexer": "ipython3",
   "version": "3.10.5"
  }
 },
 "nbformat": 4,
 "nbformat_minor": 5
}
