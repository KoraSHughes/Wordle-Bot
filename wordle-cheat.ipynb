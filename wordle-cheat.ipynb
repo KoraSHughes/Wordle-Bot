{
 "cells": [
  {
   "cell_type": "code",
   "execution_count": 34,
   "id": "e22e2fed",
   "metadata": {},
   "outputs": [
    {
     "name": "stdout",
     "output_type": "stream",
     "text": [
      "found 9979 words\n"
     ]
    }
   ],
   "source": [
    "import re\n",
    "# nltk?\n",
    "from english_words import get_english_words_set\n",
    "\n",
    "wl = 5  # word length\n",
    "# getting all wl-len words for wordle\n",
    "words = [word for word in get_english_words_set(['web2'], lower=True) if len(word) == wl]\n",
    "print(\"found\", len(words), \"words\")\n",
    "words = ' '.join(words)"
   ]
  },
  {
   "cell_type": "code",
   "execution_count": 37,
   "id": "30c18e5c",
   "metadata": {},
   "outputs": [
    {
     "name": "stdout",
     "output_type": "stream",
     "text": [
      "True\n"
     ]
    }
   ],
   "source": [
    "print(\"hound\" in words)"
   ]
  },
  {
   "cell_type": "code",
   "execution_count": 38,
   "id": "770b2878",
   "metadata": {
    "scrolled": true
   },
   "outputs": [
    {
     "name": "stdout",
     "output_type": "stream",
     "text": [
      "False\n",
      "\n",
      "Resulting words:\n",
      "['zmudz', 'knout', 'hocky', 'comfy', 'toppy', 'gunny', 'bocoy', 'oolly', 'oddly', 'unold', 'nunky', 'cogon', 'cloop', 'yomud', 'cloud', 'pfund', 'mutch', 'tough', 'mobby', 'coomy', 'molly', 'bulgy', 'bucco', 'polly', 'ululu', 'block', 'congo', 'unwon', 'chott', 'cluff', 'knoll', 'unbow', 'cothy', 'mooth', 'ungum', 'cohol', 'thumb', 'fuzzy', 'boggy', 'bumbo', 'couth', 'kumyk', 'found', 'zocco', 'nooky', 'nonyl', 'cloot', 'ghoul', 'jumby', 'pombo', 'mulct', 'pluff', 'fogou', 'monty', 'totum', 'jolty', 'pommy', 'oxbow', 'cubby', 'cocco', 'doggo', 'fogon', 'whulk', 'fultz', 'foody', 'whoof', 'lolly', 'dotty', 'photo', 'clung', 'dolly', 'pouty', 'bucky', 'loulu', 'bunty', 'poddy', 'hough', 'foppy', 'junto', 'booby', 'dunny', 'jhool', 'mufty', 'gyppo', 'cuppy', 'hotly', 'couch', 'wough', 'puddy', 'fuffy', 'punch', 'cluck', 'munch', 'pondy', 'kyung', 'coyol', 'doddy', 'owght', 'bound', 'tutty', 'youff', 'nonly', 'guffy', 'unpot', 'mount', 'xylon', 'gulfy', 'gulch', 'dogly', 'bothy', 'oftly', 'codon', 'dutch', 'bully', 'odoom', 'hoofy']\n"
     ]
    }
   ],
   "source": [
    "def match_words(to_find=\".....\", bad_c=\"\", good_c=\"\", guesses=[], verbose=False):\n",
    "    \"\"\" gets a list of all wl-letter words given criteria \n",
    "        to_find => the word matches these letters in this order with '.' for unknown\n",
    "        bad_c => the word doesnt contain these characters\n",
    "        good_c => the word does contain these characters\"\"\"\n",
    "    # get all words that match this sequence\n",
    "    found_words = re.findall(to_find, words)\n",
    "#     if verbose: \n",
    "#         print(\"Found words:\", found_words)\n",
    "\n",
    "#     print(\"hound\" in found_words)  # TODO figure why this isnt working\n",
    "\n",
    "    # character subset\n",
    "    bad_c += ' '  # addition for space delim in regex\n",
    "    res = []\n",
    "    for word in found_words:\n",
    "        can_add = True\n",
    "        for c in bad_c:  # subtract words with bad characters\n",
    "            if c in word:\n",
    "                can_add = False\n",
    "        if can_add:\n",
    "            for c in good_c:  # add words with good characters\n",
    "                if c not in word:\n",
    "                    can_add = False\n",
    "        if can_add and word in guesses:\n",
    "            can_add = False  # TODO: elim words with - feedback matching letters\n",
    "        if can_add:\n",
    "            res.append(word)\n",
    "    if verbose:\n",
    "        print(\"\\nResulting words:\")\n",
    "        print(res)\n",
    "    return res\n",
    "\n",
    "potential_words = match_words(\".....\", \"raise\", \"\", [], True)  # easiest"
   ]
  },
  {
   "cell_type": "code",
   "execution_count": 27,
   "id": "599d8ff6",
   "metadata": {},
   "outputs": [
    {
     "data": {
      "text/plain": [
       "True"
      ]
     },
     "execution_count": 27,
     "metadata": {},
     "output_type": "execute_result"
    }
   ],
   "source": []
  },
  {
   "cell_type": "code",
   "execution_count": 23,
   "id": "8c58c0ae",
   "metadata": {
    "scrolled": false
   },
   "outputs": [
    {
     "name": "stdout",
     "output_type": "stream",
     "text": [
      "*Frequency Map\n",
      "{'o': 80, 'u': 60, 'y': 57, 'l': 36, 'c': 32, 'n': 30, 't': 29, 'h': 25, 'm': 22, 'd': 21, 'g': 21, 'f': 19, 'b': 19, 'p': 17, 'k': 11, 'w': 7, 'z': 4, 'j': 4, 'x': 2}\n",
      "Frequency2 Map 0\n",
      "{'c': 20, 'b': 12, 'p': 11, 'm': 9, 'f': 8, 'd': 7, 'g': 6, 'o': 6, 'u': 6, 't': 5, 'k': 4, 'h': 4, 'n': 4, 'j': 4, 'w': 3, 'z': 2, 'y': 2, 'l': 2, 'x': 1}\n",
      "Frequency2 Map 1\n",
      "{'o': 55, 'u': 28, 'l': 9, 'n': 7, 'h': 7, 'y': 3, 'd': 2, 'f': 2, 'm': 1, 'x': 1, 'w': 1}\n",
      "Frequency2 Map 2\n",
      "{'u': 21, 'o': 19, 'l': 13, 'n': 12, 't': 9, 'g': 8, 'm': 7, 'c': 6, 'p': 5, 'd': 5, 'b': 4, 'f': 3, 'w': 1, 'h': 1, 'z': 1, 'y': 1}\n",
      "Frequency2 Map 3\n",
      "{'o': 17, 'l': 16, 't': 13, 'c': 12, 'f': 8, 'n': 8, 'g': 7, 'd': 6, 'u': 6, 'b': 6, 'k': 4, 'p': 4, 'm': 3, 'h': 3, 'y': 2, 'z': 1}\n",
      "Frequency2 Map 4\n",
      "{'y': 49, 'h': 11, 'o': 10, 't': 7, 'd': 6, 'l': 6, 'n': 5, 'k': 4, 'f': 4, 'u': 3, 'm': 3, 'z': 2, 'w': 2, 'g': 2, 'p': 1, 'b': 1}\n",
      "\n",
      "Words sorted by best option:\n",
      "['pouty', 'hotly', 'cothy', 'monty', 'dogly', 'comfy', 'couth', 'jolty', 'nonly', 'pondy', 'bothy', 'coomy', 'molly', 'polly', 'dolly', 'bocoy', 'hocky', 'mount', 'dotty', 'yomud', 'couch', 'hoofy', 'tough', 'foody', 'oolly', 'bound', 'nooky', 'bunty', 'boggy', 'found', 'lolly', 'youff', 'coyol', 'oftly', 'bulgy', 'toppy', 'mobby', 'pommy', 'poddy', 'booby', 'gulfy', 'foppy', 'wough', 'bully', 'cloud', 'mufty', 'hough', 'nonyl', 'unold', 'doddy', 'bucky', 'cubby', 'loulu', 'oddly', 'cohol', 'dunny', 'cuppy', 'gunny', 'fogou', 'junto', 'totum', 'cogon', 'congo', 'ghoul', 'codon', 'mooth', 'bucco', 'unpot', 'jumby', 'nunky', 'puddy', 'knout', 'guffy', 'tutty', 'cloot', 'mulct', 'bumbo', 'xylon', 'gulch', 'fogon', 'munch', 'clung', 'punch', 'mutch', 'block', 'dutch', 'chott', 'unbow', 'fuffy', 'cloop', 'fuzzy', 'pombo', 'kyung', 'cocco', 'unwon', 'fultz', 'photo', 'cluff', 'knoll', 'doggo', 'cluck', 'gyppo', 'zocco', 'jhool', 'pfund', 'kumyk', 'thumb', 'whulk', 'owght', 'pluff', 'whoof', 'odoom', 'ungum', 'ululu', 'zmudz', 'oxbow']\n"
     ]
    }
   ],
   "source": [
    "def best_play(good_words, verbose=False):\n",
    "    \"\"\" returns the best play for wordle based on character frequency \n",
    "    Note: this is not necessarily optimal since word difficulty needs to be taken into account\n",
    "     (i.e. 'later' is better then 'artie' because nobody gona put artie in wordle XD)\"\"\"\n",
    "    freq = {}  # get frequency map of all characters\n",
    "    freq2 = [{} for i in range(wl)]   # get frequency map of character frequency in each position\n",
    "    for word in good_words:  # TODO: weight freq by how common the word is\n",
    "        for c in set(word): # save raw freq\n",
    "            freq[c] = freq.get(c, 0) + 1\n",
    "        for i, c in enumerate(word):  # save freq for specific places\n",
    "            freq2[i][c] = freq2[i].get(c, 0) + 1\n",
    "    if verbose:\n",
    "        print(\"*Frequency Map\")  # show in sorted order\n",
    "        print({k: v for k, v in sorted(freq.items(), key=lambda item: item[1], reverse=True)})\n",
    "        for i in range(len(freq2)):\n",
    "            print(\"Frequency2 Map\", i)  # show in sorted order\n",
    "            print({k: v for k, v in sorted(freq2[i].items(), key=lambda item: item[1], reverse=True)})\n",
    "    \n",
    "    score = {}  # get score of each word\n",
    "    for word in good_words:\n",
    "        sc = 0\n",
    "        for c in set(word):  # add freq of letter occurring in any word\n",
    "            sc += freq[c]  # aka chance of -\n",
    "        for i, c in enumerate(word):  # add freq of letter occurring in that spot in any word (half weighted)\n",
    "            sc += freq2[i].get(c, 0) # aka chance of * \n",
    "        score[word] = sc  # TODO: account for previously guessed words\n",
    "        \n",
    "    # sort possible words based on score\n",
    "    res = sorted(good_words, key=lambda word: score[word], reverse=True)\n",
    "    if verbose:\n",
    "        print(\"\\nWords sorted by best option:\")\n",
    "        print(res)\n",
    "    return res\n",
    "\n",
    "play = best_play(potential_words, True)[0]  # words.split(\" \")"
   ]
  },
  {
   "cell_type": "code",
   "execution_count": 77,
   "id": "f0574066",
   "metadata": {},
   "outputs": [
    {
     "name": "stdout",
     "output_type": "stream",
     "text": [
      "Your Guess: dream\n",
      "Feedback:  xxxx-\n",
      "\n",
      "Your Guess: moist\n",
      "Feedback:  -xxxx\n",
      "\n",
      "Your Guess: gummy\n",
      "Feedback:  *****\n",
      "\n",
      "Congrats! You win :)\n"
     ]
    },
    {
     "data": {
      "text/plain": [
       "[('dream', 'xxxx-'), ('moist', '-xxxx'), ('gummy', '*****')]"
      ]
     },
     "execution_count": 77,
     "metadata": {},
     "output_type": "execute_result"
    }
   ],
   "source": [
    "def play_wordle(target, guess):\n",
    "    \"\"\" executes 1 round of wordle and returns feedback \"\"\"\n",
    "    assert len(target) == wl and len(guess) == wl\n",
    "    res = \"\"\n",
    "    for i in range(len(target)):\n",
    "        if target[i] == guess[i]:\n",
    "            res += '*'\n",
    "        elif guess[i] in target:\n",
    "            res += '-'\n",
    "        else:\n",
    "            res += 'x'\n",
    "    return res\n",
    "\n",
    "def wordle(target, max_guess=6):\n",
    "    \"\"\" executes max_guess rounds of wordle and tells you if you won :) \n",
    "    (returns all your guesses & feedback) \"\"\"\n",
    "    i = 0\n",
    "    results = []\n",
    "    while i <= max_guess:\n",
    "        inword = str(input(\"Your Guess: \")).lower().strip()\n",
    "        feedback = play_wordle(target, inword)\n",
    "        results.append((inword, feedback))\n",
    "        print(\"Feedback: \", feedback)\n",
    "        print()\n",
    "        if feedback == '*****':\n",
    "            print(\"Congrats! You win :)\\n\")\n",
    "            return results\n",
    "        i += 1\n",
    "    print(\"Sorry thats not right...\\nThe correct word was:\", target)\n",
    "    return results\n",
    "wordle(\"gummy\")"
   ]
  },
  {
   "cell_type": "code",
   "execution_count": 91,
   "id": "e597a04a",
   "metadata": {
    "scrolled": false
   },
   "outputs": [
    {
     "name": "stdout",
     "output_type": "stream",
     "text": [
      "Guessed: tarie\n",
      "Feedback: x--xx\n",
      "Update: ....., tie, ar\n",
      "\n",
      "Guessed: carob\n",
      "Feedback: x----\n",
      "Update: ....., c, arob\n",
      "\n",
      "Guessed: boran\n",
      "Feedback: *---x\n",
      "Update: b...., n, ora\n",
      "\n",
      "Guessed: boral\n",
      "Feedback: *---x\n",
      "Update: b...., l, ora\n",
      "\n",
      "Guessed: borax\n",
      "Feedback: *---x\n",
      "Update: b...., x, ora\n",
      "\n",
      "Guessed: bolar\n",
      "Feedback: *-x--\n",
      "Update: b...., l, oar\n",
      "\n",
      "Sorry thats not right...\n",
      "The correct word was: bravo\n"
     ]
    }
   ],
   "source": [
    "def bot_wordle(target, num_guesses=6, verbose=False):\n",
    "    \"\"\" shows wordle guesses & results for a freq-optimal bot\n",
    "    Note: its not very good for reasons discussed earlier \"\"\"\n",
    "    counter = 1\n",
    "    potential_words = words.split(' ')\n",
    "    guesses = []\n",
    "    while counter <= num_guesses:\n",
    "        inword = best_play(potential_words)[0]\n",
    "        guesses.append(inword)\n",
    "        print(\"Guessed:\", inword)\n",
    "        \n",
    "        feedback = play_wordle(target, inword)\n",
    "        print(\"Feedback:\", feedback)\n",
    "        \n",
    "        if feedback == '*****':\n",
    "            print(\"Congrats! You win :)\")\n",
    "            return\n",
    "        else:  # find next best option\n",
    "            to_find = \"\"\n",
    "            good_c = \"\"\n",
    "            bad_c = \"\"\n",
    "            for i, c in enumerate(feedback):  # update params based on feedback\n",
    "                if c == \"*\":\n",
    "                    to_find += inword[i]\n",
    "                else:\n",
    "                    to_find += '.'\n",
    "                    if c == \"-\":\n",
    "                        good_c += inword[i]\n",
    "                    else:\n",
    "                        bad_c += inword[i]\n",
    "            # update words for next round\n",
    "            if verbose: print(\"Update:\", ', '.join([to_find, bad_c, good_c]))\n",
    "            potential_words = match_words(to_find, bad_c, good_c, guesses)\n",
    "        print()\n",
    "        counter += 1\n",
    "    print(\"Sorry thats not right...\\nThe correct word was:\", target)\n",
    "    return\n",
    "\n",
    "bot_wordle(\"bravo\", 6, True)\n",
    "\n",
    "# TODO: make it so bot looks at previous guesses and knows - letters can be in that position*"
   ]
  }
 ],
 "metadata": {
  "kernelspec": {
   "display_name": "Python 3 (ipykernel)",
   "language": "python",
   "name": "python3"
  },
  "language_info": {
   "codemirror_mode": {
    "name": "ipython",
    "version": 3
   },
   "file_extension": ".py",
   "mimetype": "text/x-python",
   "name": "python",
   "nbconvert_exporter": "python",
   "pygments_lexer": "ipython3",
   "version": "3.10.5"
  }
 },
 "nbformat": 4,
 "nbformat_minor": 5
}
