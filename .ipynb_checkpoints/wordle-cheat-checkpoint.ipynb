{
 "cells": [
  {
   "cell_type": "code",
   "execution_count": 17,
   "id": "e22e2fed",
   "metadata": {},
   "outputs": [
    {
     "name": "stdout",
     "output_type": "stream",
     "text": [
      "found 9979 words\n"
     ]
    }
   ],
   "source": [
    "import re\n",
    "# nltk?\n",
    "from english_words import get_english_words_set\n",
    "\n",
    "wl = 5  # word length\n",
    "# getting all wl-len words for wordle\n",
    "words = [word for word in get_english_words_set(['web2'], lower=True) if len(word) == wl]\n",
    "print(\"found\", len(words), \"words\")\n",
    "words = ' '.join(words)"
   ]
  },
  {
   "cell_type": "code",
   "execution_count": 18,
   "id": "770b2878",
   "metadata": {
    "scrolled": true
   },
   "outputs": [
    {
     "name": "stdout",
     "output_type": "stream",
     "text": [
      "False\n",
      "\n",
      "Resulting words:\n",
      "['goody', 'guppy', 'clout', 'mouly', 'hooky', 'thoft', 'pobby', 'mulch', 'dutch', 'dumpy', 'punty', 'loopy', 'pooly', 'mooch', 'lunch', 'dunch', 'oolly', 'gully', 'lolly', 'unpot', 'comby', 'blunk', 'noddy', 'oopod', 'cuffy', 'conto', 'ngoko', 'cloop', 'junto', 'kokum', 'totum', 'modoc', 'lucky', 'punch', 'tonto', 'coony', 'ought', 'bungo', 'compo', 'boody', 'louch', 'oghuz', 'yomud', 'jutty', 'gunny', 'nymph', 'footy', 'cotty', 'punto', 'pokom', 'ovolo', 'buddh', 'bungy', 'podgy', 'ungot', 'vogul', 'boldo', 'woold', 'hulky', 'pylon', 'coyol', 'otkon', 'colon', 'would', 'huffy', 'outdo', 'chott', 'unbud', 'knout', 'muddy', 'fluky', 'lymph', 'fulup', 'lofty', 'cutch', 'bowly', 'coypu', 'phoby', 'blunt', 'lloyd', 'nullo', 'humbo', 'cyton', 'thumb', 'toffy', 'gouty', 'bundu', 'hobby', 'foggy', 'godly', 'unold', 'unhot', 'hubby', 'bluff', 'fogon', 'nubby', 'duppy', 'dolph', 'booty', 'outgo', 'goofy', 'plout', 'punct', 'putty', 'fouth', 'hough', 'vouch', 'mucky', 'dunny', 'fluff', 'bokom']\n"
     ]
    }
   ],
   "source": [
    "def match_words(to_find=\".....\", bad_c=\"\", good_c=\"\", guesses=[], verbose=False):\n",
    "    \"\"\" gets a list of all wl-letter words given criteria \n",
    "        to_find => the word matches these letters in this order with '.' for unknown\n",
    "        bad_c => the word doesnt contain these characters\n",
    "        good_c => the word does contain these characters\"\"\"\n",
    "    # get all words that match this sequence\n",
    "    found_words = re.findall(to_find, words)\n",
    "#     if verbose: \n",
    "#         print(\"Found words:\", found_words)\n",
    "\n",
    "    print(\"hound\" in found_words)  # TODO figure why this isnt working\n",
    "\n",
    "    # character subset\n",
    "    bad_c += ' '  # addition for space delim in regex\n",
    "    res = []\n",
    "    for word in found_words:\n",
    "        can_add = True\n",
    "        for c in bad_c:  # subtract words with bad characters\n",
    "            if c in word:\n",
    "                can_add = False\n",
    "        if can_add:\n",
    "            for c in good_c:  # add words with good characters\n",
    "                if c not in word:\n",
    "                    can_add = False\n",
    "        if can_add and word in guesses:\n",
    "            can_add = False  # TODO: elim words with - feedback matching letters\n",
    "        if can_add:\n",
    "            res.append(word)\n",
    "    if verbose:\n",
    "        print(\"\\nResulting words:\")\n",
    "        print(res)\n",
    "    return res\n",
    "\n",
    "potential_words = match_words(\".....\", \"raise\", \"\", [], True)  # easiest"
   ]
  },
  {
   "cell_type": "code",
   "execution_count": 22,
   "id": "8c58c0ae",
   "metadata": {
    "scrolled": true
   },
   "outputs": [
    {
     "name": "stdout",
     "output_type": "stream",
     "text": [
      "*Frequency Map\n",
      "{'o': 74, 'u': 63, 'y': 52, 'l': 36, 't': 33, 'n': 33, 'h': 28, 'c': 26, 'p': 25, 'd': 24, 'b': 21, 'g': 19, 'm': 18, 'f': 14, 'k': 12, 'v': 3, 'w': 3, 'j': 2, 'z': 1}\n",
      "Frequency2 Map 0\n",
      "{'c': 14, 'p': 12, 'b': 12, 'l': 8, 'o': 8, 'g': 7, 'h': 7, 'f': 7, 'm': 6, 'd': 6, 't': 5, 'u': 5, 'n': 5, 'j': 2, 'k': 2, 'v': 2, 'w': 2, 'y': 1}\n",
      "Frequency2 Map 1\n",
      "{'o': 48, 'u': 36, 'l': 9, 'n': 6, 'h': 4, 'y': 4, 'g': 2, 'v': 1, 't': 1}\n",
      "Frequency2 Map 2\n",
      "{'o': 22, 'n': 14, 'u': 13, 'l': 11, 't': 9, 'm': 7, 'd': 6, 'b': 5, 'g': 5, 'p': 4, 'f': 4, 'k': 4, 'c': 2, 'h': 2, 'y': 2, 'w': 1}\n",
      "Frequency2 Map 3\n",
      "{'t': 14, 'o': 14, 'l': 12, 'u': 10, 'c': 10, 'p': 9, 'd': 8, 'f': 7, 'b': 7, 'k': 6, 'g': 6, 'n': 5, 'h': 1, 'y': 1, 'm': 1}\n",
      "Frequency2 Map 4\n",
      "{'y': 44, 'h': 15, 'o': 13, 't': 11, 'd': 7, 'n': 5, 'm': 4, 'p': 2, 'l': 2, 'u': 2, 'f': 2, 'k': 1, 'c': 1, 'z': 1, 'b': 1}\n",
      "\n",
      "Words sorted by best option:\n",
      "['mouly', 'gouty', 'coypu', 'louch', 'lofty', 'punto', 'punty', 'godly', 'yomud', 'pooly', 'fouth', 'clout', 'loopy', 'coony', 'plout', 'booty', 'podgy', 'comby', 'cotty', 'unold', 'bungo', 'bowly', 'footy', 'bungy', 'boody', 'hulky', 'phoby', 'junto', 'ought', 'nullo', 'noddy', 'unhot', 'goody', 'unpot', 'would', 'lucky', 'vouch', 'pylon', 'hooky', 'humbo', 'dumpy', 'putty', 'ungot', 'pobby', 'knout', 'hobby', 'cyton', 'dolph', 'toffy', 'goofy', 'oolly', 'lolly', 'gully', 'outdo', 'hough', 'dunny', 'coyol', 'lunch', 'vogul', 'totum', 'gunny', 'outgo', 'punct', 'conto', 'nubby', 'mucky', 'punch', 'foggy', 'colon', 'hubby', 'duppy', 'fluky', 'dunch', 'guppy', 'cuffy', 'dutch', 'muddy', 'mulch', 'huffy', 'jutty', 'blunt', 'lloyd', 'boldo', 'mooch', 'kokum', 'cutch', 'chott', 'compo', 'tonto', 'cloop', 'oghuz', 'woold', 'fogon', 'modoc', 'blunk', 'bundu', 'lymph', 'buddh', 'pokom', 'nymph', 'fulup', 'thoft', 'bokom', 'thumb', 'oopod', 'otkon', 'ngoko', 'unbud', 'bluff', 'ovolo', 'fluff']\n"
     ]
    }
   ],
   "source": [
    "def best_play(good_words, verbose=False):\n",
    "    \"\"\" returns the best play for wordle based on character frequency \n",
    "    Note: this is not necessarily optimal since word difficulty needs to be taken into account\n",
    "     (i.e. 'later' is better then 'artie' because nobody gona put artie in wordle XD)\"\"\"\n",
    "    freq = {}  # get frequency map of all characters\n",
    "    freq2 = [{} for i in range(wl)]   # get frequency map of character frequency in each position\n",
    "    for word in good_words:  # TODO: weight freq by how common the word is\n",
    "        for c in set(word): # save raw freq\n",
    "            freq[c] = freq.get(c, 0) + 1\n",
    "        for i, c in enumerate(word):  # save freq for specific places\n",
    "            freq2[i][c] = freq2[i].get(c, 0) + 1\n",
    "    if verbose:\n",
    "        print(\"*Frequency Map\")  # show in sorted order\n",
    "        print({k: v for k, v in sorted(freq.items(), key=lambda item: item[1], reverse=True)})\n",
    "        for i in range(len(freq2)):\n",
    "            print(\"Frequency2 Map\", i)  # show in sorted order\n",
    "            print({k: v for k, v in sorted(freq2[i].items(), key=lambda item: item[1], reverse=True)})\n",
    "    \n",
    "    score = {}  # get score of each word\n",
    "    for word in good_words:\n",
    "        sc = 0\n",
    "        for c in set(word):  # add freq of letter occurring in any word\n",
    "            sc += freq[c]  # aka chance of -\n",
    "        for i, c in enumerate(word):  # add freq of letter occurring in that spot in any word (half weighted)\n",
    "            sc += freq2[i].get(c, 0)/1.5 # aka chance of * \n",
    "        score[word] = sc  # TODO: account for previously guessed words\n",
    "        \n",
    "    # sort possible words based on score\n",
    "    res = sorted(good_words, key=lambda word: score[word], reverse=True)\n",
    "    if verbose:\n",
    "        print(\"\\nWords sorted by best option:\")\n",
    "        print(res)\n",
    "    return res\n",
    "\n",
    "play = best_play(potential_words, True)[0]  # words.split(\" \")"
   ]
  },
  {
   "cell_type": "code",
   "execution_count": 23,
   "id": "f0574066",
   "metadata": {},
   "outputs": [
    {
     "name": "stdout",
     "output_type": "stream",
     "text": [
      "Your Guess: raise\n",
      "Feedback:  xxxxx\n",
      "\n",
      "Your Guess: clout\n",
      "Feedback:  xxx-x\n",
      "\n",
      "Your Guess: thumb\n",
      "Feedback:  xx-*x\n",
      "\n",
      "Your Guess: tummy\n",
      "Feedback:  x****\n",
      "\n",
      "Your Guess: gummy\n",
      "Feedback:  *****\n",
      "\n",
      "Congrats! You win :)\n",
      "\n"
     ]
    },
    {
     "data": {
      "text/plain": [
       "[('raise', 'xxxxx'),\n",
       " ('clout', 'xxx-x'),\n",
       " ('thumb', 'xx-*x'),\n",
       " ('tummy', 'x****'),\n",
       " ('gummy', '*****')]"
      ]
     },
     "execution_count": 23,
     "metadata": {},
     "output_type": "execute_result"
    }
   ],
   "source": [
    "def play_wordle(target, guess):\n",
    "    \"\"\" executes 1 round of wordle and returns feedback \"\"\"\n",
    "    assert len(target) == wl and len(guess) == wl\n",
    "    res = \"\"\n",
    "    for i in range(len(target)):\n",
    "        if target[i] == guess[i]:\n",
    "            res += '*'\n",
    "        elif guess[i] in target:\n",
    "            res += '-'\n",
    "        else:\n",
    "            res += 'x'\n",
    "    return res\n",
    "\n",
    "def wordle(target, max_guess=6):\n",
    "    \"\"\" executes max_guess rounds of wordle and tells you if you won :) \n",
    "    (returns all your guesses & feedback) \"\"\"\n",
    "    i = 0\n",
    "    results = []\n",
    "    while i <= max_guess:\n",
    "        inword = str(input(\"Your Guess: \")).lower().strip()\n",
    "        feedback = play_wordle(target, inword)\n",
    "        results.append((inword, feedback))\n",
    "        print(\"Feedback: \", feedback)\n",
    "        print()\n",
    "        if feedback == '*****':\n",
    "            print(\"Congrats! You win :)\\n\")\n",
    "            return results\n",
    "        i += 1\n",
    "    print(\"Sorry thats not right...\\nThe correct word was:\", target)\n",
    "    return results\n",
    "test = wordle(\"gummy\")"
   ]
  },
  {
   "cell_type": "code",
   "execution_count": 68,
   "id": "e597a04a",
   "metadata": {
    "scrolled": false
   },
   "outputs": [
    {
     "name": "stdout",
     "output_type": "stream",
     "text": [
      "Guessed: ariel\n",
      "Feedback: xxxxx\n",
      "Update: ....., ariel, \n",
      "False\n",
      "\n",
      "Guessed: booty\n",
      "Feedback: x*-xx\n",
      "Update: .o..., arielbty, o\n",
      "False\n",
      "\n",
      "Guessed: donum\n",
      "Feedback: -*--x\n",
      "Update: .o..., arielbtym, odnu\n",
      "False\n",
      "\n",
      "Guessed: fondu\n",
      "Feedback: **---\n",
      "Update: fo..., arielbtym, odnundu\n",
      "False\n",
      "\n",
      "Guessed: found\n",
      "Feedback: *****\n",
      "Congrats! You win :)\n"
     ]
    }
   ],
   "source": [
    "from numpy.random import choice\n",
    "\n",
    "pool_size = 20  # max deviation from best choice\n",
    "rand_weight = 1.5  # int [1,inf] exponentially scaling how likely sorted choices are to each other\n",
    "def bot_wordle(target, num_guesses=6, verbose=False):\n",
    "    \"\"\" shows wordle guesses & results for a freq-optimal bot\n",
    "    Note: its not very good for reasons discussed earlier \"\"\"\n",
    "    counter = 1\n",
    "    potential_words = words.split(' ')\n",
    "    guesses = []\n",
    "    # memory variables between words (can be sets but im lazy)\n",
    "    good_c = \"\"\n",
    "    bad_c = \"\"\n",
    "    while counter <= num_guesses:\n",
    "        assert len(potential_words) > 0, f\"No choices found in {potential_words=}\"\n",
    "        \n",
    "        # random choice of good words is more interesting than always taking the best word\n",
    "        # tldr masks some of the pitfalls of the strategy in variability\n",
    "        best_words = best_play(potential_words)\n",
    "        if len(best_words) > pool_size:  # constrain random choice\n",
    "            best_words = best_words[:pool_size]\n",
    "        inword = choice(best_words, 1, [rand_weight**i for i in reversed(range(len(best_words)))])[0]\n",
    "        \n",
    "        guesses.append(inword)\n",
    "        print(\"Guessed:\", inword)\n",
    "        \n",
    "        feedback = play_wordle(target, inword)\n",
    "        print(\"Feedback:\", feedback)\n",
    "        \n",
    "        if feedback == '*****':\n",
    "            print(\"Congrats! You win :)\")\n",
    "            return\n",
    "        else:  # find next best option\n",
    "            to_find = \"\"\n",
    "            for i, c in enumerate(feedback):  # update params based on feedback\n",
    "                if c == \"*\":\n",
    "                    to_find += inword[i]\n",
    "                else:\n",
    "                    to_find += '.'\n",
    "                    if c == \"-\":\n",
    "                        good_c += inword[i]\n",
    "                    else:\n",
    "                        bad_c += inword[i]\n",
    "            # update words for next round\n",
    "            if verbose: print(\"Update:\", ', '.join([to_find, bad_c, good_c]))\n",
    "            potential_words = match_words(to_find, bad_c, good_c, guesses)\n",
    "        print()\n",
    "        counter += 1\n",
    "    print(\"Sorry thats not right...\\nThe correct word was:\", target)\n",
    "    return\n",
    "\n",
    "bot_wordle(\"found\", 6, True)\n",
    "\n",
    "# TODO: make it so bot looks at previous guesses and knows - letters can be in that position*"
   ]
  }
 ],
 "metadata": {
  "kernelspec": {
   "display_name": "Python 3 (ipykernel)",
   "language": "python",
   "name": "python3"
  },
  "language_info": {
   "codemirror_mode": {
    "name": "ipython",
    "version": 3
   },
   "file_extension": ".py",
   "mimetype": "text/x-python",
   "name": "python",
   "nbconvert_exporter": "python",
   "pygments_lexer": "ipython3",
   "version": "3.10.5"
  }
 },
 "nbformat": 4,
 "nbformat_minor": 5
}
